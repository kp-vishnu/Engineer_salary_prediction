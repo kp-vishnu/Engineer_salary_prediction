{
 "cells": [
  {
   "cell_type": "markdown",
   "id": "72ae1416",
   "metadata": {},
   "source": [
    "# Data Cleaning"
   ]
  },
  {
   "cell_type": "code",
   "execution_count": 52,
   "id": "e4e2e3df",
   "metadata": {},
   "outputs": [],
   "source": [
    "import pandas as pd"
   ]
  },
  {
   "cell_type": "code",
   "execution_count": 53,
   "id": "9c0a3673",
   "metadata": {},
   "outputs": [
    {
     "data": {
      "text/html": [
       "<div>\n",
       "<style scoped>\n",
       "    .dataframe tbody tr th:only-of-type {\n",
       "        vertical-align: middle;\n",
       "    }\n",
       "\n",
       "    .dataframe tbody tr th {\n",
       "        vertical-align: top;\n",
       "    }\n",
       "\n",
       "    .dataframe thead th {\n",
       "        text-align: right;\n",
       "    }\n",
       "</style>\n",
       "<table border=\"1\" class=\"dataframe\">\n",
       "  <thead>\n",
       "    <tr style=\"text-align: right;\">\n",
       "      <th></th>\n",
       "      <th>Unnamed: 0</th>\n",
       "      <th>Job Title</th>\n",
       "      <th>Salary Estimate</th>\n",
       "      <th>Rating</th>\n",
       "      <th>Company Name</th>\n",
       "      <th>Description</th>\n",
       "      <th>Location</th>\n",
       "      <th>size</th>\n",
       "      <th>type</th>\n",
       "      <th>sector</th>\n",
       "      <th>founded</th>\n",
       "      <th>industry</th>\n",
       "      <th>revenue</th>\n",
       "    </tr>\n",
       "  </thead>\n",
       "  <tbody>\n",
       "    <tr>\n",
       "      <th>0</th>\n",
       "      <td>0</td>\n",
       "      <td>Software Engineer I</td>\n",
       "      <td>$85K - $121K (Glassdoor est.)</td>\n",
       "      <td>4.2</td>\n",
       "      <td>The Trade Desk\\n4.2</td>\n",
       "      <td>The Trade Desk is a global technology company ...</td>\n",
       "      <td>Chandler, AZ</td>\n",
       "      <td>1001 to 5000 Employees</td>\n",
       "      <td>Company - Public</td>\n",
       "      <td>Information Technology</td>\n",
       "      <td>2009</td>\n",
       "      <td>Internet &amp; Web Services</td>\n",
       "      <td>$1 to $5 billion (USD)</td>\n",
       "    </tr>\n",
       "    <tr>\n",
       "      <th>1</th>\n",
       "      <td>1</td>\n",
       "      <td>Software Engineer 1 - Mobile</td>\n",
       "      <td>$74K - $109K (Glassdoor est.)</td>\n",
       "      <td>4.1</td>\n",
       "      <td>Garmin International, Inc.\\n4.1</td>\n",
       "      <td>Overview:\\nWe are seeking a full-time Software...</td>\n",
       "      <td>Chandler, AZ</td>\n",
       "      <td>10000+ Employees</td>\n",
       "      <td>Company - Public</td>\n",
       "      <td>Manufacturing</td>\n",
       "      <td>1989</td>\n",
       "      <td>Consumer Product Manufacturing</td>\n",
       "      <td>$1 to $5 billion (USD)</td>\n",
       "    </tr>\n",
       "    <tr>\n",
       "      <th>2</th>\n",
       "      <td>2</td>\n",
       "      <td>ReactJS Frontend Engineer (LatAm)</td>\n",
       "      <td>-1</td>\n",
       "      <td>4.7</td>\n",
       "      <td>Outliant &amp; AirCrew\\n4.7</td>\n",
       "      <td>We’re looking to hire a full-time, remote Reac...</td>\n",
       "      <td>Chandler, AZ</td>\n",
       "      <td>51 to 200 Employees</td>\n",
       "      <td>Company - Private</td>\n",
       "      <td>Information Technology</td>\n",
       "      <td>2019</td>\n",
       "      <td>Computer Hardware Development</td>\n",
       "      <td>Unknown / Non-Applicable</td>\n",
       "    </tr>\n",
       "    <tr>\n",
       "      <th>3</th>\n",
       "      <td>3</td>\n",
       "      <td>Manual Software QA Engineer - Computer Vision</td>\n",
       "      <td>-1</td>\n",
       "      <td>4.2</td>\n",
       "      <td>Apple\\n4.2</td>\n",
       "      <td>Summary\\nPosted: Jul 22, 2022\\nRole Number:200...</td>\n",
       "      <td>Chandler, AZ</td>\n",
       "      <td>10000+ Employees</td>\n",
       "      <td>Company - Public</td>\n",
       "      <td>Information Technology</td>\n",
       "      <td>1976</td>\n",
       "      <td>Computer Hardware Development</td>\n",
       "      <td>$10+ billion (USD)</td>\n",
       "    </tr>\n",
       "    <tr>\n",
       "      <th>4</th>\n",
       "      <td>4</td>\n",
       "      <td>Jr. Software Developer</td>\n",
       "      <td>Employer Provided Salary:$70K - $90K</td>\n",
       "      <td>4.0</td>\n",
       "      <td>Softnice Inc.\\n4.0</td>\n",
       "      <td>Bachelor’s degree in computer science.\\nKnowle...</td>\n",
       "      <td>Chandler, AZ</td>\n",
       "      <td>501 to 1000 Employees</td>\n",
       "      <td>Company - Private</td>\n",
       "      <td>Information Technology</td>\n",
       "      <td>2001</td>\n",
       "      <td>Information Technology Support Services</td>\n",
       "      <td>$25 to $100 million (USD)</td>\n",
       "    </tr>\n",
       "  </tbody>\n",
       "</table>\n",
       "</div>"
      ],
      "text/plain": [
       "   Unnamed: 0                                      Job Title  \\\n",
       "0           0                            Software Engineer I   \n",
       "1           1                   Software Engineer 1 - Mobile   \n",
       "2           2              ReactJS Frontend Engineer (LatAm)   \n",
       "3           3  Manual Software QA Engineer - Computer Vision   \n",
       "4           4                         Jr. Software Developer   \n",
       "\n",
       "                        Salary Estimate  Rating  \\\n",
       "0         $85K - $121K (Glassdoor est.)     4.2   \n",
       "1         $74K - $109K (Glassdoor est.)     4.1   \n",
       "2                                    -1     4.7   \n",
       "3                                    -1     4.2   \n",
       "4  Employer Provided Salary:$70K - $90K     4.0   \n",
       "\n",
       "                      Company Name  \\\n",
       "0              The Trade Desk\\n4.2   \n",
       "1  Garmin International, Inc.\\n4.1   \n",
       "2          Outliant & AirCrew\\n4.7   \n",
       "3                       Apple\\n4.2   \n",
       "4               Softnice Inc.\\n4.0   \n",
       "\n",
       "                                         Description      Location  \\\n",
       "0  The Trade Desk is a global technology company ...  Chandler, AZ   \n",
       "1  Overview:\\nWe are seeking a full-time Software...  Chandler, AZ   \n",
       "2  We’re looking to hire a full-time, remote Reac...  Chandler, AZ   \n",
       "3  Summary\\nPosted: Jul 22, 2022\\nRole Number:200...  Chandler, AZ   \n",
       "4  Bachelor’s degree in computer science.\\nKnowle...  Chandler, AZ   \n",
       "\n",
       "                     size               type                  sector founded  \\\n",
       "0  1001 to 5000 Employees   Company - Public  Information Technology    2009   \n",
       "1        10000+ Employees   Company - Public           Manufacturing    1989   \n",
       "2     51 to 200 Employees  Company - Private  Information Technology    2019   \n",
       "3        10000+ Employees   Company - Public  Information Technology    1976   \n",
       "4   501 to 1000 Employees  Company - Private  Information Technology    2001   \n",
       "\n",
       "                                  industry                    revenue  \n",
       "0                  Internet & Web Services     $1 to $5 billion (USD)  \n",
       "1           Consumer Product Manufacturing     $1 to $5 billion (USD)  \n",
       "2            Computer Hardware Development   Unknown / Non-Applicable  \n",
       "3            Computer Hardware Development         $10+ billion (USD)  \n",
       "4  Information Technology Support Services  $25 to $100 million (USD)  "
      ]
     },
     "execution_count": 53,
     "metadata": {},
     "output_type": "execute_result"
    }
   ],
   "source": [
    "data = pd.read_csv(r\"C:\\Users\\Priya\\Documents\\Engineer_salary\\engineer_salary.csv\")\n",
    "data.head()"
   ]
  },
  {
   "cell_type": "markdown",
   "id": "5dea6172",
   "metadata": {},
   "source": [
    "The salary estimate column has to be cleaned to extract numerical data out of it. All rows with salary estimates not given is to be removed as they are not useful for model building"
   ]
  },
  {
   "cell_type": "code",
   "execution_count": 75,
   "id": "ebed25da",
   "metadata": {},
   "outputs": [
    {
     "data": {
      "text/html": [
       "<div>\n",
       "<style scoped>\n",
       "    .dataframe tbody tr th:only-of-type {\n",
       "        vertical-align: middle;\n",
       "    }\n",
       "\n",
       "    .dataframe tbody tr th {\n",
       "        vertical-align: top;\n",
       "    }\n",
       "\n",
       "    .dataframe thead th {\n",
       "        text-align: right;\n",
       "    }\n",
       "</style>\n",
       "<table border=\"1\" class=\"dataframe\">\n",
       "  <thead>\n",
       "    <tr style=\"text-align: right;\">\n",
       "      <th></th>\n",
       "      <th>Unnamed: 0</th>\n",
       "      <th>Job Title</th>\n",
       "      <th>Salary Estimate</th>\n",
       "      <th>Rating</th>\n",
       "      <th>Company Name</th>\n",
       "      <th>Description</th>\n",
       "      <th>Location</th>\n",
       "      <th>size</th>\n",
       "      <th>type</th>\n",
       "      <th>sector</th>\n",
       "      <th>founded</th>\n",
       "      <th>industry</th>\n",
       "      <th>revenue</th>\n",
       "      <th>Hourly_salary</th>\n",
       "      <th>Employer Provided_salary</th>\n",
       "      <th>minimum_salary</th>\n",
       "      <th>maximum_salary</th>\n",
       "      <th>Average Salary</th>\n",
       "    </tr>\n",
       "  </thead>\n",
       "  <tbody>\n",
       "    <tr>\n",
       "      <th>0</th>\n",
       "      <td>0</td>\n",
       "      <td>Software Engineer I</td>\n",
       "      <td>$85K - $121K (Glassdoor est.)</td>\n",
       "      <td>4.2</td>\n",
       "      <td>The Trade Desk\\n4.2</td>\n",
       "      <td>The Trade Desk is a global technology company ...</td>\n",
       "      <td>Chandler, AZ</td>\n",
       "      <td>1001 to 5000 Employees</td>\n",
       "      <td>Company - Public</td>\n",
       "      <td>Information Technology</td>\n",
       "      <td>2009</td>\n",
       "      <td>Internet &amp; Web Services</td>\n",
       "      <td>$1 to $5 billion (USD)</td>\n",
       "      <td>0</td>\n",
       "      <td>0</td>\n",
       "      <td>85</td>\n",
       "      <td>121</td>\n",
       "      <td>103.0</td>\n",
       "    </tr>\n",
       "    <tr>\n",
       "      <th>1</th>\n",
       "      <td>1</td>\n",
       "      <td>Software Engineer 1 - Mobile</td>\n",
       "      <td>$74K - $109K (Glassdoor est.)</td>\n",
       "      <td>4.1</td>\n",
       "      <td>Garmin International, Inc.\\n4.1</td>\n",
       "      <td>Overview:\\nWe are seeking a full-time Software...</td>\n",
       "      <td>Chandler, AZ</td>\n",
       "      <td>10000+ Employees</td>\n",
       "      <td>Company - Public</td>\n",
       "      <td>Manufacturing</td>\n",
       "      <td>1989</td>\n",
       "      <td>Consumer Product Manufacturing</td>\n",
       "      <td>$1 to $5 billion (USD)</td>\n",
       "      <td>0</td>\n",
       "      <td>0</td>\n",
       "      <td>74</td>\n",
       "      <td>109</td>\n",
       "      <td>91.5</td>\n",
       "    </tr>\n",
       "  </tbody>\n",
       "</table>\n",
       "</div>"
      ],
      "text/plain": [
       "   Unnamed: 0                     Job Title                Salary Estimate  \\\n",
       "0           0           Software Engineer I  $85K - $121K (Glassdoor est.)   \n",
       "1           1  Software Engineer 1 - Mobile  $74K - $109K (Glassdoor est.)   \n",
       "\n",
       "   Rating                     Company Name  \\\n",
       "0     4.2              The Trade Desk\\n4.2   \n",
       "1     4.1  Garmin International, Inc.\\n4.1   \n",
       "\n",
       "                                         Description      Location  \\\n",
       "0  The Trade Desk is a global technology company ...  Chandler, AZ   \n",
       "1  Overview:\\nWe are seeking a full-time Software...  Chandler, AZ   \n",
       "\n",
       "                     size              type                  sector founded  \\\n",
       "0  1001 to 5000 Employees  Company - Public  Information Technology    2009   \n",
       "1        10000+ Employees  Company - Public           Manufacturing    1989   \n",
       "\n",
       "                         industry                 revenue  Hourly_salary  \\\n",
       "0         Internet & Web Services  $1 to $5 billion (USD)              0   \n",
       "1  Consumer Product Manufacturing  $1 to $5 billion (USD)              0   \n",
       "\n",
       "   Employer Provided_salary minimum_salary maximum_salary  Average Salary  \n",
       "0                         0             85           121            103.0  \n",
       "1                         0             74           109             91.5  "
      ]
     },
     "execution_count": 75,
     "metadata": {},
     "output_type": "execute_result"
    }
   ],
   "source": [
    "data = data[data['Salary Estimate']!='-1']\n",
    "data.head(2)"
   ]
  },
  {
   "cell_type": "code",
   "execution_count": 55,
   "id": "702217af",
   "metadata": {},
   "outputs": [
    {
     "data": {
      "text/plain": [
       "0                                        $85K - $121K \n",
       "1                                        $74K - $109K \n",
       "4                 Employer Provided Salary:$70K - $90K\n",
       "5                                       $105K - $155K \n",
       "6     Employer Provided Salary:$70.00 - $80.00Per Hour\n",
       "                            ...                       \n",
       "95                                       $93K - $145K \n",
       "96                                      $122K - $183K \n",
       "97                                      $107K - $156K \n",
       "98                                      $100K - $160K \n",
       "99                                       $78K - $116K \n",
       "Name: Salary Estimate, Length: 72, dtype: object"
      ]
     },
     "execution_count": 55,
     "metadata": {},
     "output_type": "execute_result"
    }
   ],
   "source": [
    "salary = data['Salary Estimate'].apply(lambda x: x.split('(')[0])\n",
    "salary"
   ]
  },
  {
   "cell_type": "markdown",
   "id": "e025db97",
   "metadata": {},
   "source": [
    "we need to remove K sign from the salary estimate"
   ]
  },
  {
   "cell_type": "code",
   "execution_count": 56,
   "id": "7239303f",
   "metadata": {},
   "outputs": [
    {
     "data": {
      "text/plain": [
       "0                                          85 - 121 \n",
       "1                                          74 - 109 \n",
       "4                   Employer Provided Salary:70 - 90\n",
       "5                                         105 - 155 \n",
       "6     Employer Provided Salary:70.00 - 80.00Per Hour\n",
       "                           ...                      \n",
       "95                                         93 - 145 \n",
       "96                                        122 - 183 \n",
       "97                                        107 - 156 \n",
       "98                                        100 - 160 \n",
       "99                                         78 - 116 \n",
       "Name: Salary Estimate, Length: 72, dtype: object"
      ]
     },
     "execution_count": 56,
     "metadata": {},
     "output_type": "execute_result"
    }
   ],
   "source": [
    "k_dollar_minus = salary. apply(lambda x: x.replace('K','').replace('$',''))\n",
    "k_dollar_minus"
   ]
  },
  {
   "cell_type": "markdown",
   "id": "09bd80bf",
   "metadata": {},
   "source": [
    "There are rows in which salary is given per hour and there are rows in which salary is given as 'employer provided salary'. These are to be removed as far as the model is concerned to get a clean column of salary. They can be added as a new column before removing from the original column."
   ]
  },
  {
   "cell_type": "code",
   "execution_count": 57,
   "id": "32cc35b2",
   "metadata": {},
   "outputs": [],
   "source": [
    "data['Hourly_salary']=data['Salary Estimate'].apply(lambda x: 1 if 'per hour' in x.lower() else 0)\n",
    "data['Employer Provided_salary']=data['Salary Estimate'].apply(lambda x: 1 if 'employer provided salary' in x.lower() else 0)"
   ]
  },
  {
   "cell_type": "code",
   "execution_count": 60,
   "id": "8ec9dab9",
   "metadata": {},
   "outputs": [
    {
     "data": {
      "text/plain": [
       "0         85 - 121 \n",
       "1         74 - 109 \n",
       "4           70 - 90\n",
       "5        105 - 155 \n",
       "6     70.00 - 80.00\n",
       "          ...      \n",
       "95        93 - 145 \n",
       "96       122 - 183 \n",
       "97       107 - 156 \n",
       "98       100 - 160 \n",
       "99        78 - 116 \n",
       "Name: Salary Estimate, Length: 72, dtype: object"
      ]
     },
     "execution_count": 60,
     "metadata": {},
     "output_type": "execute_result"
    }
   ],
   "source": [
    "hour_employer_minus= k_dollar_minus.apply(lambda x: x.lower().replace('per hour','').replace ('employer provided salary:', ''))\n",
    "hour_employer_minus"
   ]
  },
  {
   "cell_type": "markdown",
   "id": "e0c34008",
   "metadata": {},
   "source": [
    "Since the salary is given as a range, it has to be split to obtain the minimum and maximum salary."
   ]
  },
  {
   "cell_type": "code",
   "execution_count": 74,
   "id": "dbbb485b",
   "metadata": {},
   "outputs": [
    {
     "data": {
      "text/html": [
       "<div>\n",
       "<style scoped>\n",
       "    .dataframe tbody tr th:only-of-type {\n",
       "        vertical-align: middle;\n",
       "    }\n",
       "\n",
       "    .dataframe tbody tr th {\n",
       "        vertical-align: top;\n",
       "    }\n",
       "\n",
       "    .dataframe thead th {\n",
       "        text-align: right;\n",
       "    }\n",
       "</style>\n",
       "<table border=\"1\" class=\"dataframe\">\n",
       "  <thead>\n",
       "    <tr style=\"text-align: right;\">\n",
       "      <th></th>\n",
       "      <th>Unnamed: 0</th>\n",
       "      <th>Job Title</th>\n",
       "      <th>Salary Estimate</th>\n",
       "      <th>Rating</th>\n",
       "      <th>Company Name</th>\n",
       "      <th>Description</th>\n",
       "      <th>Location</th>\n",
       "      <th>size</th>\n",
       "      <th>type</th>\n",
       "      <th>sector</th>\n",
       "      <th>founded</th>\n",
       "      <th>industry</th>\n",
       "      <th>revenue</th>\n",
       "      <th>Hourly_salary</th>\n",
       "      <th>Employer Provided_salary</th>\n",
       "      <th>minimum_salary</th>\n",
       "      <th>maximum_salary</th>\n",
       "      <th>Average Salary</th>\n",
       "    </tr>\n",
       "  </thead>\n",
       "  <tbody>\n",
       "    <tr>\n",
       "      <th>0</th>\n",
       "      <td>0</td>\n",
       "      <td>Software Engineer I</td>\n",
       "      <td>$85K - $121K (Glassdoor est.)</td>\n",
       "      <td>4.2</td>\n",
       "      <td>The Trade Desk\\n4.2</td>\n",
       "      <td>The Trade Desk is a global technology company ...</td>\n",
       "      <td>Chandler, AZ</td>\n",
       "      <td>1001 to 5000 Employees</td>\n",
       "      <td>Company - Public</td>\n",
       "      <td>Information Technology</td>\n",
       "      <td>2009</td>\n",
       "      <td>Internet &amp; Web Services</td>\n",
       "      <td>$1 to $5 billion (USD)</td>\n",
       "      <td>0</td>\n",
       "      <td>0</td>\n",
       "      <td>85</td>\n",
       "      <td>121</td>\n",
       "      <td>103.0</td>\n",
       "    </tr>\n",
       "    <tr>\n",
       "      <th>1</th>\n",
       "      <td>1</td>\n",
       "      <td>Software Engineer 1 - Mobile</td>\n",
       "      <td>$74K - $109K (Glassdoor est.)</td>\n",
       "      <td>4.1</td>\n",
       "      <td>Garmin International, Inc.\\n4.1</td>\n",
       "      <td>Overview:\\nWe are seeking a full-time Software...</td>\n",
       "      <td>Chandler, AZ</td>\n",
       "      <td>10000+ Employees</td>\n",
       "      <td>Company - Public</td>\n",
       "      <td>Manufacturing</td>\n",
       "      <td>1989</td>\n",
       "      <td>Consumer Product Manufacturing</td>\n",
       "      <td>$1 to $5 billion (USD)</td>\n",
       "      <td>0</td>\n",
       "      <td>0</td>\n",
       "      <td>74</td>\n",
       "      <td>109</td>\n",
       "      <td>91.5</td>\n",
       "    </tr>\n",
       "  </tbody>\n",
       "</table>\n",
       "</div>"
      ],
      "text/plain": [
       "   Unnamed: 0                     Job Title                Salary Estimate  \\\n",
       "0           0           Software Engineer I  $85K - $121K (Glassdoor est.)   \n",
       "1           1  Software Engineer 1 - Mobile  $74K - $109K (Glassdoor est.)   \n",
       "\n",
       "   Rating                     Company Name  \\\n",
       "0     4.2              The Trade Desk\\n4.2   \n",
       "1     4.1  Garmin International, Inc.\\n4.1   \n",
       "\n",
       "                                         Description      Location  \\\n",
       "0  The Trade Desk is a global technology company ...  Chandler, AZ   \n",
       "1  Overview:\\nWe are seeking a full-time Software...  Chandler, AZ   \n",
       "\n",
       "                     size              type                  sector founded  \\\n",
       "0  1001 to 5000 Employees  Company - Public  Information Technology    2009   \n",
       "1        10000+ Employees  Company - Public           Manufacturing    1989   \n",
       "\n",
       "                         industry                 revenue  Hourly_salary  \\\n",
       "0         Internet & Web Services  $1 to $5 billion (USD)              0   \n",
       "1  Consumer Product Manufacturing  $1 to $5 billion (USD)              0   \n",
       "\n",
       "   Employer Provided_salary minimum_salary maximum_salary  Average Salary  \n",
       "0                         0             85           121            103.0  \n",
       "1                         0             74           109             91.5  "
      ]
     },
     "execution_count": 74,
     "metadata": {},
     "output_type": "execute_result"
    }
   ],
   "source": [
    "data['minimum_salary'] = hour_employer_minus.apply(lambda x: x.split(' - ')[0])\n",
    "\n",
    "\n",
    "data['maximum_salary'] = hour_employer_minus.apply(lambda x: x.split(' - ')[-1])\n",
    "data.head(2)"
   ]
  },
  {
   "cell_type": "code",
   "execution_count": 78,
   "id": "0153ab5f",
   "metadata": {},
   "outputs": [],
   "source": [
    "# Make sure all the values of salary are in the int/float dtype\n",
    "data = data.astype({'minimum_salary':'float'})\n",
    "data = data.astype({'maximum_salary':'float'})"
   ]
  },
  {
   "cell_type": "code",
   "execution_count": 85,
   "id": "e618a4c9",
   "metadata": {},
   "outputs": [
    {
     "data": {
      "text/html": [
       "<div>\n",
       "<style scoped>\n",
       "    .dataframe tbody tr th:only-of-type {\n",
       "        vertical-align: middle;\n",
       "    }\n",
       "\n",
       "    .dataframe tbody tr th {\n",
       "        vertical-align: top;\n",
       "    }\n",
       "\n",
       "    .dataframe thead th {\n",
       "        text-align: right;\n",
       "    }\n",
       "</style>\n",
       "<table border=\"1\" class=\"dataframe\">\n",
       "  <thead>\n",
       "    <tr style=\"text-align: right;\">\n",
       "      <th></th>\n",
       "      <th>Unnamed: 0</th>\n",
       "      <th>Job Title</th>\n",
       "      <th>Salary Estimate</th>\n",
       "      <th>Rating</th>\n",
       "      <th>Company Name</th>\n",
       "      <th>Description</th>\n",
       "      <th>Location</th>\n",
       "      <th>size</th>\n",
       "      <th>type</th>\n",
       "      <th>sector</th>\n",
       "      <th>founded</th>\n",
       "      <th>industry</th>\n",
       "      <th>revenue</th>\n",
       "      <th>Hourly_salary</th>\n",
       "      <th>Employer Provided_salary</th>\n",
       "      <th>minimum_salary</th>\n",
       "      <th>maximum_salary</th>\n",
       "      <th>Average Salary</th>\n",
       "      <th>Company</th>\n",
       "    </tr>\n",
       "  </thead>\n",
       "  <tbody>\n",
       "    <tr>\n",
       "      <th>0</th>\n",
       "      <td>0</td>\n",
       "      <td>Software Engineer I</td>\n",
       "      <td>$85K - $121K (Glassdoor est.)</td>\n",
       "      <td>4.2</td>\n",
       "      <td>The Trade Desk\\n4.2</td>\n",
       "      <td>The Trade Desk is a global technology company ...</td>\n",
       "      <td>Chandler, AZ</td>\n",
       "      <td>1001 to 5000 Employees</td>\n",
       "      <td>Company - Public</td>\n",
       "      <td>Information Technology</td>\n",
       "      <td>2009</td>\n",
       "      <td>Internet &amp; Web Services</td>\n",
       "      <td>$1 to $5 billion (USD)</td>\n",
       "      <td>0</td>\n",
       "      <td>0</td>\n",
       "      <td>85.0</td>\n",
       "      <td>121.0</td>\n",
       "      <td>103.0</td>\n",
       "      <td>The Trade Desk</td>\n",
       "    </tr>\n",
       "    <tr>\n",
       "      <th>1</th>\n",
       "      <td>1</td>\n",
       "      <td>Software Engineer 1 - Mobile</td>\n",
       "      <td>$74K - $109K (Glassdoor est.)</td>\n",
       "      <td>4.1</td>\n",
       "      <td>Garmin International, Inc.\\n4.1</td>\n",
       "      <td>Overview:\\nWe are seeking a full-time Software...</td>\n",
       "      <td>Chandler, AZ</td>\n",
       "      <td>10000+ Employees</td>\n",
       "      <td>Company - Public</td>\n",
       "      <td>Manufacturing</td>\n",
       "      <td>1989</td>\n",
       "      <td>Consumer Product Manufacturing</td>\n",
       "      <td>$1 to $5 billion (USD)</td>\n",
       "      <td>0</td>\n",
       "      <td>0</td>\n",
       "      <td>74.0</td>\n",
       "      <td>109.0</td>\n",
       "      <td>91.5</td>\n",
       "      <td>Garmin International, Inc.</td>\n",
       "    </tr>\n",
       "  </tbody>\n",
       "</table>\n",
       "</div>"
      ],
      "text/plain": [
       "   Unnamed: 0                     Job Title                Salary Estimate  \\\n",
       "0           0           Software Engineer I  $85K - $121K (Glassdoor est.)   \n",
       "1           1  Software Engineer 1 - Mobile  $74K - $109K (Glassdoor est.)   \n",
       "\n",
       "   Rating                     Company Name  \\\n",
       "0     4.2              The Trade Desk\\n4.2   \n",
       "1     4.1  Garmin International, Inc.\\n4.1   \n",
       "\n",
       "                                         Description      Location  \\\n",
       "0  The Trade Desk is a global technology company ...  Chandler, AZ   \n",
       "1  Overview:\\nWe are seeking a full-time Software...  Chandler, AZ   \n",
       "\n",
       "                     size              type                  sector founded  \\\n",
       "0  1001 to 5000 Employees  Company - Public  Information Technology    2009   \n",
       "1        10000+ Employees  Company - Public           Manufacturing    1989   \n",
       "\n",
       "                         industry                 revenue  Hourly_salary  \\\n",
       "0         Internet & Web Services  $1 to $5 billion (USD)              0   \n",
       "1  Consumer Product Manufacturing  $1 to $5 billion (USD)              0   \n",
       "\n",
       "   Employer Provided_salary  minimum_salary  maximum_salary  Average Salary  \\\n",
       "0                         0            85.0           121.0           103.0   \n",
       "1                         0            74.0           109.0            91.5   \n",
       "\n",
       "                      Company  \n",
       "0              The Trade Desk  \n",
       "1  Garmin International, Inc.  "
      ]
     },
     "execution_count": 85,
     "metadata": {},
     "output_type": "execute_result"
    }
   ],
   "source": [
    "data['Average Salary']=((data.minimum_salary+data.maximum_salary)/2)\n",
    "data.head(2)"
   ]
  },
  {
   "cell_type": "markdown",
   "id": "cf9c3958",
   "metadata": {},
   "source": [
    "Since the Company name is clubbed with ratings, the rating has to be removed from the company name and company name isolated."
   ]
  },
  {
   "cell_type": "code",
   "execution_count": 84,
   "id": "d8c660d0",
   "metadata": {},
   "outputs": [
    {
     "data": {
      "text/html": [
       "<div>\n",
       "<style scoped>\n",
       "    .dataframe tbody tr th:only-of-type {\n",
       "        vertical-align: middle;\n",
       "    }\n",
       "\n",
       "    .dataframe tbody tr th {\n",
       "        vertical-align: top;\n",
       "    }\n",
       "\n",
       "    .dataframe thead th {\n",
       "        text-align: right;\n",
       "    }\n",
       "</style>\n",
       "<table border=\"1\" class=\"dataframe\">\n",
       "  <thead>\n",
       "    <tr style=\"text-align: right;\">\n",
       "      <th></th>\n",
       "      <th>Unnamed: 0</th>\n",
       "      <th>Job Title</th>\n",
       "      <th>Salary Estimate</th>\n",
       "      <th>Rating</th>\n",
       "      <th>Company Name</th>\n",
       "      <th>Description</th>\n",
       "      <th>Location</th>\n",
       "      <th>size</th>\n",
       "      <th>type</th>\n",
       "      <th>sector</th>\n",
       "      <th>founded</th>\n",
       "      <th>industry</th>\n",
       "      <th>revenue</th>\n",
       "      <th>Hourly_salary</th>\n",
       "      <th>Employer Provided_salary</th>\n",
       "      <th>minimum_salary</th>\n",
       "      <th>maximum_salary</th>\n",
       "      <th>Average Salary</th>\n",
       "      <th>Company</th>\n",
       "    </tr>\n",
       "  </thead>\n",
       "  <tbody>\n",
       "    <tr>\n",
       "      <th>0</th>\n",
       "      <td>0</td>\n",
       "      <td>Software Engineer I</td>\n",
       "      <td>$85K - $121K (Glassdoor est.)</td>\n",
       "      <td>4.2</td>\n",
       "      <td>The Trade Desk\\n4.2</td>\n",
       "      <td>The Trade Desk is a global technology company ...</td>\n",
       "      <td>Chandler, AZ</td>\n",
       "      <td>1001 to 5000 Employees</td>\n",
       "      <td>Company - Public</td>\n",
       "      <td>Information Technology</td>\n",
       "      <td>2009</td>\n",
       "      <td>Internet &amp; Web Services</td>\n",
       "      <td>$1 to $5 billion (USD)</td>\n",
       "      <td>0</td>\n",
       "      <td>0</td>\n",
       "      <td>85.0</td>\n",
       "      <td>121.0</td>\n",
       "      <td>103.0</td>\n",
       "      <td>The Trade Desk</td>\n",
       "    </tr>\n",
       "  </tbody>\n",
       "</table>\n",
       "</div>"
      ],
      "text/plain": [
       "   Unnamed: 0            Job Title                Salary Estimate  Rating  \\\n",
       "0           0  Software Engineer I  $85K - $121K (Glassdoor est.)     4.2   \n",
       "\n",
       "          Company Name                                        Description  \\\n",
       "0  The Trade Desk\\n4.2  The Trade Desk is a global technology company ...   \n",
       "\n",
       "       Location                    size              type  \\\n",
       "0  Chandler, AZ  1001 to 5000 Employees  Company - Public   \n",
       "\n",
       "                   sector founded                 industry  \\\n",
       "0  Information Technology    2009  Internet & Web Services   \n",
       "\n",
       "                  revenue  Hourly_salary  Employer Provided_salary  \\\n",
       "0  $1 to $5 billion (USD)              0                         0   \n",
       "\n",
       "   minimum_salary  maximum_salary  Average Salary         Company  \n",
       "0            85.0           121.0           103.0  The Trade Desk  "
      ]
     },
     "execution_count": 84,
     "metadata": {},
     "output_type": "execute_result"
    }
   ],
   "source": [
    "data['Company'] = data.apply(lambda x: x['Company Name'] if x['Rating'] <0 else x['Company Name'][:-4], axis=1)\n",
    "data.head(1)"
   ]
  },
  {
   "cell_type": "code",
   "execution_count": 107,
   "id": "9341510e",
   "metadata": {},
   "outputs": [
    {
     "data": {
      "text/html": [
       "<div>\n",
       "<style scoped>\n",
       "    .dataframe tbody tr th:only-of-type {\n",
       "        vertical-align: middle;\n",
       "    }\n",
       "\n",
       "    .dataframe tbody tr th {\n",
       "        vertical-align: top;\n",
       "    }\n",
       "\n",
       "    .dataframe thead th {\n",
       "        text-align: right;\n",
       "    }\n",
       "</style>\n",
       "<table border=\"1\" class=\"dataframe\">\n",
       "  <thead>\n",
       "    <tr style=\"text-align: right;\">\n",
       "      <th></th>\n",
       "      <th>Unnamed: 0</th>\n",
       "      <th>Job Title</th>\n",
       "      <th>Salary Estimate</th>\n",
       "      <th>Rating</th>\n",
       "      <th>Company Name</th>\n",
       "      <th>Description</th>\n",
       "      <th>Location</th>\n",
       "      <th>size</th>\n",
       "      <th>type</th>\n",
       "      <th>sector</th>\n",
       "      <th>...</th>\n",
       "      <th>industry</th>\n",
       "      <th>revenue</th>\n",
       "      <th>Hourly_salary</th>\n",
       "      <th>Employer Provided_salary</th>\n",
       "      <th>minimum_salary</th>\n",
       "      <th>maximum_salary</th>\n",
       "      <th>Average Salary</th>\n",
       "      <th>Company</th>\n",
       "      <th>State</th>\n",
       "      <th>Age</th>\n",
       "    </tr>\n",
       "  </thead>\n",
       "  <tbody>\n",
       "    <tr>\n",
       "      <th>0</th>\n",
       "      <td>0</td>\n",
       "      <td>Software Engineer I</td>\n",
       "      <td>$85K - $121K (Glassdoor est.)</td>\n",
       "      <td>4.2</td>\n",
       "      <td>The Trade Desk\\n4.2</td>\n",
       "      <td>The Trade Desk is a global technology company ...</td>\n",
       "      <td>Chandler, AZ</td>\n",
       "      <td>1001 to 5000 Employees</td>\n",
       "      <td>Company - Public</td>\n",
       "      <td>Information Technology</td>\n",
       "      <td>...</td>\n",
       "      <td>Internet &amp; Web Services</td>\n",
       "      <td>$1 to $5 billion (USD)</td>\n",
       "      <td>0</td>\n",
       "      <td>0</td>\n",
       "      <td>85.0</td>\n",
       "      <td>121.0</td>\n",
       "      <td>103.0</td>\n",
       "      <td>The Trade Desk</td>\n",
       "      <td>AZ</td>\n",
       "      <td>13.0</td>\n",
       "    </tr>\n",
       "  </tbody>\n",
       "</table>\n",
       "<p>1 rows × 21 columns</p>\n",
       "</div>"
      ],
      "text/plain": [
       "   Unnamed: 0            Job Title                Salary Estimate  Rating  \\\n",
       "0           0  Software Engineer I  $85K - $121K (Glassdoor est.)     4.2   \n",
       "\n",
       "          Company Name                                        Description  \\\n",
       "0  The Trade Desk\\n4.2  The Trade Desk is a global technology company ...   \n",
       "\n",
       "       Location                    size              type  \\\n",
       "0  Chandler, AZ  1001 to 5000 Employees  Company - Public   \n",
       "\n",
       "                   sector  ...                 industry  \\\n",
       "0  Information Technology  ...  Internet & Web Services   \n",
       "\n",
       "                  revenue Hourly_salary  Employer Provided_salary  \\\n",
       "0  $1 to $5 billion (USD)             0                         0   \n",
       "\n",
       "   minimum_salary  maximum_salary  Average Salary         Company State   Age  \n",
       "0            85.0           121.0           103.0  The Trade Desk    AZ  13.0  \n",
       "\n",
       "[1 rows x 21 columns]"
      ]
     },
     "execution_count": 107,
     "metadata": {},
     "output_type": "execute_result"
    }
   ],
   "source": [
    "data['State'] = data['Location'].apply(lambda x: x.split(',')[-1])\n",
    "data.head(1)"
   ]
  },
  {
   "cell_type": "markdown",
   "id": "ee16a2d9",
   "metadata": {},
   "source": [
    "The age of the company maybe a factor in determining their salary package. So age is isolated."
   ]
  },
  {
   "cell_type": "code",
   "execution_count": 129,
   "id": "cc7ba167",
   "metadata": {},
   "outputs": [],
   "source": [
    "data['founded']= data['founded'].apply(lambda x: str(x).replace('Company - Private','0'))\n",
    "data['founded']= data['founded'].apply(lambda x: str(x).replace('Company - Public','0'))\n",
    "data = data.astype({'founded':'float'})\n",
    "data['Age of company']=data.founded.apply(lambda x: x if x<1 else 2022 - x)\n"
   ]
  },
  {
   "cell_type": "code",
   "execution_count": 130,
   "id": "5a9bffd7",
   "metadata": {},
   "outputs": [
    {
     "data": {
      "text/html": [
       "<div>\n",
       "<style scoped>\n",
       "    .dataframe tbody tr th:only-of-type {\n",
       "        vertical-align: middle;\n",
       "    }\n",
       "\n",
       "    .dataframe tbody tr th {\n",
       "        vertical-align: top;\n",
       "    }\n",
       "\n",
       "    .dataframe thead th {\n",
       "        text-align: right;\n",
       "    }\n",
       "</style>\n",
       "<table border=\"1\" class=\"dataframe\">\n",
       "  <thead>\n",
       "    <tr style=\"text-align: right;\">\n",
       "      <th></th>\n",
       "      <th>Unnamed: 0</th>\n",
       "      <th>Job Title</th>\n",
       "      <th>Salary Estimate</th>\n",
       "      <th>Rating</th>\n",
       "      <th>Company Name</th>\n",
       "      <th>Description</th>\n",
       "      <th>Location</th>\n",
       "      <th>size</th>\n",
       "      <th>type</th>\n",
       "      <th>sector</th>\n",
       "      <th>...</th>\n",
       "      <th>revenue</th>\n",
       "      <th>Hourly_salary</th>\n",
       "      <th>Employer Provided_salary</th>\n",
       "      <th>minimum_salary</th>\n",
       "      <th>maximum_salary</th>\n",
       "      <th>Average Salary</th>\n",
       "      <th>Company</th>\n",
       "      <th>State</th>\n",
       "      <th>Age</th>\n",
       "      <th>Age of company</th>\n",
       "    </tr>\n",
       "  </thead>\n",
       "  <tbody>\n",
       "    <tr>\n",
       "      <th>0</th>\n",
       "      <td>0</td>\n",
       "      <td>Software Engineer I</td>\n",
       "      <td>$85K - $121K (Glassdoor est.)</td>\n",
       "      <td>4.2</td>\n",
       "      <td>The Trade Desk\\n4.2</td>\n",
       "      <td>The Trade Desk is a global technology company ...</td>\n",
       "      <td>Chandler, AZ</td>\n",
       "      <td>1001 to 5000 Employees</td>\n",
       "      <td>Company - Public</td>\n",
       "      <td>Information Technology</td>\n",
       "      <td>...</td>\n",
       "      <td>$1 to $5 billion (USD)</td>\n",
       "      <td>0</td>\n",
       "      <td>0</td>\n",
       "      <td>85.0</td>\n",
       "      <td>121.0</td>\n",
       "      <td>103.0</td>\n",
       "      <td>The Trade Desk</td>\n",
       "      <td>AZ</td>\n",
       "      <td>13.0</td>\n",
       "      <td>13.0</td>\n",
       "    </tr>\n",
       "  </tbody>\n",
       "</table>\n",
       "<p>1 rows × 22 columns</p>\n",
       "</div>"
      ],
      "text/plain": [
       "   Unnamed: 0            Job Title                Salary Estimate  Rating  \\\n",
       "0           0  Software Engineer I  $85K - $121K (Glassdoor est.)     4.2   \n",
       "\n",
       "          Company Name                                        Description  \\\n",
       "0  The Trade Desk\\n4.2  The Trade Desk is a global technology company ...   \n",
       "\n",
       "       Location                    size              type  \\\n",
       "0  Chandler, AZ  1001 to 5000 Employees  Company - Public   \n",
       "\n",
       "                   sector  ...                 revenue Hourly_salary  \\\n",
       "0  Information Technology  ...  $1 to $5 billion (USD)             0   \n",
       "\n",
       "  Employer Provided_salary  minimum_salary  maximum_salary  Average Salary  \\\n",
       "0                        0            85.0           121.0           103.0   \n",
       "\n",
       "          Company  State   Age Age of company  \n",
       "0  The Trade Desk     AZ  13.0           13.0  \n",
       "\n",
       "[1 rows x 22 columns]"
      ]
     },
     "execution_count": 130,
     "metadata": {},
     "output_type": "execute_result"
    }
   ],
   "source": [
    "data.head(1)"
   ]
  },
  {
   "cell_type": "markdown",
   "id": "a2f2a9c4",
   "metadata": {},
   "source": [
    "Since the description is very long, it is logical to extract keywords that marks skills out of the job description "
   ]
  },
  {
   "cell_type": "code",
   "execution_count": 132,
   "id": "8ddb2296",
   "metadata": {},
   "outputs": [
    {
     "data": {
      "text/plain": [
       "0    42\n",
       "1    30\n",
       "Name: javascript, dtype: int64"
      ]
     },
     "execution_count": 132,
     "metadata": {},
     "output_type": "execute_result"
    }
   ],
   "source": [
    "data['javascript'] = data['Description'].apply(lambda x: 1 if 'javascript' in x.lower() else 0 )\n",
    "data.javascript.value_counts()"
   ]
  },
  {
   "cell_type": "code",
   "execution_count": 133,
   "id": "9c06fcf0",
   "metadata": {},
   "outputs": [
    {
     "data": {
      "text/plain": [
       "1    47\n",
       "0    25\n",
       "Name: java, dtype: int64"
      ]
     },
     "execution_count": 133,
     "metadata": {},
     "output_type": "execute_result"
    }
   ],
   "source": [
    "data['java'] = data['Description'].apply(lambda x: 1 if 'java' in x.lower() else 0 )\n",
    "data.java.value_counts()"
   ]
  },
  {
   "cell_type": "code",
   "execution_count": 134,
   "id": "74ad0f58",
   "metadata": {},
   "outputs": [
    {
     "data": {
      "text/plain": [
       "0    49\n",
       "1    23\n",
       "Name: cloud, dtype: int64"
      ]
     },
     "execution_count": 134,
     "metadata": {},
     "output_type": "execute_result"
    }
   ],
   "source": [
    "data['cloud'] = data['Description'].apply(lambda x: 1 if 'cloud' in x.lower() else 0 )\n",
    "data.cloud.value_counts()"
   ]
  },
  {
   "cell_type": "code",
   "execution_count": 135,
   "id": "8af12c6e",
   "metadata": {},
   "outputs": [
    {
     "data": {
      "text/plain": [
       "0    45\n",
       "1    27\n",
       "Name: python, dtype: int64"
      ]
     },
     "execution_count": 135,
     "metadata": {},
     "output_type": "execute_result"
    }
   ],
   "source": [
    "data['python'] = data['Description'].apply(lambda x: 1 if 'python' in x.lower() else 0 )\n",
    "data.python.value_counts()"
   ]
  },
  {
   "cell_type": "code",
   "execution_count": 136,
   "id": "b54e382f",
   "metadata": {},
   "outputs": [
    {
     "data": {
      "text/plain": [
       "0    55\n",
       "1    17\n",
       "Name: aws, dtype: int64"
      ]
     },
     "execution_count": 136,
     "metadata": {},
     "output_type": "execute_result"
    }
   ],
   "source": [
    "data['aws'] = data['Description'].apply(lambda x: 1 if 'aws' in x.lower() else 0 )\n",
    "data.aws.value_counts()"
   ]
  },
  {
   "cell_type": "code",
   "execution_count": 138,
   "id": "01803932",
   "metadata": {},
   "outputs": [
    {
     "data": {
      "text/plain": [
       "0    52\n",
       "1    20\n",
       "Name: software_development, dtype: int64"
      ]
     },
     "execution_count": 138,
     "metadata": {},
     "output_type": "execute_result"
    }
   ],
   "source": [
    "data['software_development'] = data['Description'].apply(lambda x: 1 if 'software development' in x.lower() else 0 )\n",
    "data.software_development.value_counts()"
   ]
  },
  {
   "cell_type": "code",
   "execution_count": 139,
   "id": "09a7dcc1",
   "metadata": {},
   "outputs": [
    {
     "data": {
      "text/html": [
       "<div>\n",
       "<style scoped>\n",
       "    .dataframe tbody tr th:only-of-type {\n",
       "        vertical-align: middle;\n",
       "    }\n",
       "\n",
       "    .dataframe tbody tr th {\n",
       "        vertical-align: top;\n",
       "    }\n",
       "\n",
       "    .dataframe thead th {\n",
       "        text-align: right;\n",
       "    }\n",
       "</style>\n",
       "<table border=\"1\" class=\"dataframe\">\n",
       "  <thead>\n",
       "    <tr style=\"text-align: right;\">\n",
       "      <th></th>\n",
       "      <th>Unnamed: 0</th>\n",
       "      <th>Job Title</th>\n",
       "      <th>Salary Estimate</th>\n",
       "      <th>Rating</th>\n",
       "      <th>Company Name</th>\n",
       "      <th>Description</th>\n",
       "      <th>Location</th>\n",
       "      <th>size</th>\n",
       "      <th>type</th>\n",
       "      <th>sector</th>\n",
       "      <th>...</th>\n",
       "      <th>Company</th>\n",
       "      <th>State</th>\n",
       "      <th>Age</th>\n",
       "      <th>Age of company</th>\n",
       "      <th>javascript</th>\n",
       "      <th>java</th>\n",
       "      <th>cloud</th>\n",
       "      <th>python</th>\n",
       "      <th>aws</th>\n",
       "      <th>software_development</th>\n",
       "    </tr>\n",
       "  </thead>\n",
       "  <tbody>\n",
       "    <tr>\n",
       "      <th>0</th>\n",
       "      <td>0</td>\n",
       "      <td>Software Engineer I</td>\n",
       "      <td>$85K - $121K (Glassdoor est.)</td>\n",
       "      <td>4.2</td>\n",
       "      <td>The Trade Desk\\n4.2</td>\n",
       "      <td>The Trade Desk is a global technology company ...</td>\n",
       "      <td>Chandler, AZ</td>\n",
       "      <td>1001 to 5000 Employees</td>\n",
       "      <td>Company - Public</td>\n",
       "      <td>Information Technology</td>\n",
       "      <td>...</td>\n",
       "      <td>The Trade Desk</td>\n",
       "      <td>AZ</td>\n",
       "      <td>13.0</td>\n",
       "      <td>13.0</td>\n",
       "      <td>0</td>\n",
       "      <td>0</td>\n",
       "      <td>1</td>\n",
       "      <td>0</td>\n",
       "      <td>0</td>\n",
       "      <td>0</td>\n",
       "    </tr>\n",
       "    <tr>\n",
       "      <th>1</th>\n",
       "      <td>1</td>\n",
       "      <td>Software Engineer 1 - Mobile</td>\n",
       "      <td>$74K - $109K (Glassdoor est.)</td>\n",
       "      <td>4.1</td>\n",
       "      <td>Garmin International, Inc.\\n4.1</td>\n",
       "      <td>Overview:\\nWe are seeking a full-time Software...</td>\n",
       "      <td>Chandler, AZ</td>\n",
       "      <td>10000+ Employees</td>\n",
       "      <td>Company - Public</td>\n",
       "      <td>Manufacturing</td>\n",
       "      <td>...</td>\n",
       "      <td>Garmin International, Inc.</td>\n",
       "      <td>AZ</td>\n",
       "      <td>33.0</td>\n",
       "      <td>33.0</td>\n",
       "      <td>0</td>\n",
       "      <td>1</td>\n",
       "      <td>0</td>\n",
       "      <td>0</td>\n",
       "      <td>0</td>\n",
       "      <td>0</td>\n",
       "    </tr>\n",
       "  </tbody>\n",
       "</table>\n",
       "<p>2 rows × 28 columns</p>\n",
       "</div>"
      ],
      "text/plain": [
       "   Unnamed: 0                     Job Title                Salary Estimate  \\\n",
       "0           0           Software Engineer I  $85K - $121K (Glassdoor est.)   \n",
       "1           1  Software Engineer 1 - Mobile  $74K - $109K (Glassdoor est.)   \n",
       "\n",
       "   Rating                     Company Name  \\\n",
       "0     4.2              The Trade Desk\\n4.2   \n",
       "1     4.1  Garmin International, Inc.\\n4.1   \n",
       "\n",
       "                                         Description      Location  \\\n",
       "0  The Trade Desk is a global technology company ...  Chandler, AZ   \n",
       "1  Overview:\\nWe are seeking a full-time Software...  Chandler, AZ   \n",
       "\n",
       "                     size              type                  sector  ...  \\\n",
       "0  1001 to 5000 Employees  Company - Public  Information Technology  ...   \n",
       "1        10000+ Employees  Company - Public           Manufacturing  ...   \n",
       "\n",
       "                      Company State   Age  Age of company  javascript  java  \\\n",
       "0              The Trade Desk    AZ  13.0            13.0           0     0   \n",
       "1  Garmin International, Inc.    AZ  33.0            33.0           0     1   \n",
       "\n",
       "   cloud  python aws software_development  \n",
       "0      1       0   0                    0  \n",
       "1      0       0   0                    0  \n",
       "\n",
       "[2 rows x 28 columns]"
      ]
     },
     "execution_count": 139,
     "metadata": {},
     "output_type": "execute_result"
    }
   ],
   "source": [
    "data.head(2)"
   ]
  },
  {
   "cell_type": "markdown",
   "id": "2c1c8ef3",
   "metadata": {},
   "source": [
    "Drop the unnamed:0 column and the index column as they serve no purpose in further analysis"
   ]
  },
  {
   "cell_type": "code",
   "execution_count": 141,
   "id": "9c49e52b",
   "metadata": {},
   "outputs": [],
   "source": [
    "data1 = data.drop(['Unnamed: 0'], axis = 1)"
   ]
  },
  {
   "cell_type": "code",
   "execution_count": 143,
   "id": "0e3259c3",
   "metadata": {},
   "outputs": [],
   "source": [
    "data1.to_csv('cleaned_data_EngSalary.csv', index= False)"
   ]
  },
  {
   "cell_type": "code",
   "execution_count": null,
   "id": "e4e6ff41",
   "metadata": {},
   "outputs": [],
   "source": []
  }
 ],
 "metadata": {
  "kernelspec": {
   "display_name": "Python 3 (ipykernel)",
   "language": "python",
   "name": "python3"
  },
  "language_info": {
   "codemirror_mode": {
    "name": "ipython",
    "version": 3
   },
   "file_extension": ".py",
   "mimetype": "text/x-python",
   "name": "python",
   "nbconvert_exporter": "python",
   "pygments_lexer": "ipython3",
   "version": "3.9.7"
  }
 },
 "nbformat": 4,
 "nbformat_minor": 5
}
